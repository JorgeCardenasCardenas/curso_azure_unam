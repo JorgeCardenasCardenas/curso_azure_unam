{
 "cells": [
  {
   "cell_type": "code",
   "execution_count": 1,
   "metadata": {
    "collapsed": true
   },
   "outputs": [],
   "source": [
    "import numpy as np\n",
    "import itertools"
   ]
  },
  {
   "cell_type": "code",
   "execution_count": 11,
   "metadata": {},
   "outputs": [
    {
     "name": "stdout",
     "output_type": "stream",
     "text": [
      "['sam is red', 'hannah not red', 'hannah is green', 'bob is green', 'bob not red', 'sam not green', 'sarah is red', 'sarah not green']\n",
      "[[0]\n",
      " [1]\n",
      " [1]\n",
      " [1]\n",
      " [1]\n",
      " [0]\n",
      " [0]\n",
      " [0]]\n"
     ]
    }
   ],
   "source": [
    "sentences = '''\n",
    "sam is red\n",
    "hannah not red\n",
    "hannah is green\n",
    "bob is green\n",
    "bob not red\n",
    "sam not green\n",
    "sarah is red\n",
    "sarah not green'''.strip().split('\\n')\n",
    "is_green = np.asarray([[0, 1, 1, 1, 1, 0, 0, 0]], dtype='int32').T\n",
    "\n",
    "print(sentences)\n",
    "print(is_green)"
   ]
  },
  {
   "cell_type": "code",
   "execution_count": 16,
   "metadata": {},
   "outputs": [
    {
     "name": "stdout",
     "output_type": "stream",
     "text": [
      "{'sarah', 'green', 'not', 'hannah', 'bob', 'is', 'sam', 'red'}\n"
     ]
    }
   ],
   "source": [
    "lemma = lambda x: x.strip().lower().split(' ')\n",
    "sentences_lemmatized = [lemma(sentence) for sentence in sentences]\n",
    "words = set(itertools.chain(*sentences_lemmatized))\n",
    "print(words)"
   ]
  },
  {
   "cell_type": "code",
   "execution_count": 17,
   "metadata": {},
   "outputs": [
    {
     "name": "stdout",
     "output_type": "stream",
     "text": [
      "{'sarah': 0, 'hannah': 3, 'is': 5, 'green': 1, 'sam': 6, 'red': 7, 'bob': 4, 'not': 2}\n",
      "['sarah', 'green', 'not', 'hannah', 'bob', 'is', 'sam', 'red']\n"
     ]
    }
   ],
   "source": [
    "# diccionarios para convertir palabras a enteros y vice versa\n",
    "word2idx = dict((v, i) for i, v in enumerate(words))\n",
    "idx2word = list(words)\n",
    "\n",
    "print(word2idx)\n",
    "print(idx2word)"
   ]
  },
  {
   "cell_type": "code",
   "execution_count": 18,
   "metadata": {},
   "outputs": [
    {
     "name": "stdout",
     "output_type": "stream",
     "text": [
      "[[6, 5, 7], [3, 2, 7], [3, 5, 1], [4, 5, 1], [4, 2, 7], [6, 2, 1], [0, 5, 7], [0, 2, 1]]\n",
      "[[6 5 7]\n",
      " [3 2 7]\n",
      " [3 5 1]\n",
      " [4 5 1]\n",
      " [4 2 7]\n",
      " [6 2 1]\n",
      " [0 5 7]\n",
      " [0 2 1]]\n"
     ]
    }
   ],
   "source": [
    "# Convierte el enunciado en un arreglo numpy\n",
    "to_idx = lambda x: [word2idx[word] for word in x]\n",
    "sentences_idx = [to_idx(sentence) for sentence in sentences_lemmatized]\n",
    "sentences_array = np.asarray(sentences_idx, dtype='int32')\n",
    "print(sentences_idx)\n",
    "print(sentences_array)"
   ]
  },
  {
   "cell_type": "code",
   "execution_count": 9,
   "metadata": {},
   "outputs": [
    {
     "name": "stdout",
     "output_type": "stream",
     "text": [
      "sam is red\n",
      "hannah not red\n",
      "hannah is green\n",
      "bob is green\n",
      "bob not red\n",
      "sam not green\n",
      "sarah is red\n",
      "sarah not green\n"
     ]
    }
   ],
   "source": [
    "sentences = '''\n",
    "sam is red\n",
    "hannah not red\n",
    "hannah is green\n",
    "bob is green\n",
    "bob not red\n",
    "sam not green\n",
    "sarah is red\n",
    "sarah not green'''.strip() #.split('\\n')\n",
    "print(sentences)"
   ]
  },
  {
   "cell_type": "code",
   "execution_count": null,
   "metadata": {
    "collapsed": true
   },
   "outputs": [],
   "source": []
  }
 ],
 "metadata": {
  "kernelspec": {
   "display_name": "Python 3",
   "language": "python",
   "name": "python3"
  },
  "language_info": {
   "codemirror_mode": {
    "name": "ipython",
    "version": 3
   },
   "file_extension": ".py",
   "mimetype": "text/x-python",
   "name": "python",
   "nbconvert_exporter": "python",
   "pygments_lexer": "ipython3",
   "version": "3.6.8"
  }
 },
 "nbformat": 4,
 "nbformat_minor": 2
}
